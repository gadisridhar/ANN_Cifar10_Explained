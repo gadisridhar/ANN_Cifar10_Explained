{
  "nbformat": 4,
  "nbformat_minor": 0,
  "metadata": {
    "colab": {
      "name": "ANN_Cifar10_WithEvaluations.ipynb",
      "provenance": [],
      "collapsed_sections": []
    },
    "kernelspec": {
      "name": "python3",
      "display_name": "Python 3"
    },
    "language_info": {
      "name": "python"
    },
    "gpuClass": "standard",
    "accelerator": "GPU"
  },
  "cells": [
    {
      "cell_type": "code",
      "execution_count": 24,
      "metadata": {
        "id": "hsp2C3OmaWEF"
      },
      "outputs": [],
      "source": [
        "from keras.models import  Sequential\n",
        "from keras import models, layers\n",
        "import tensorflow as tf\n",
        "from keras.layers import Flatten, Dense, Conv2D, MaxPooling2D\n",
        "import matplotlib.pyplot as plt\n",
        "import numpy as np\n",
        "from tensorflow.keras import datasets\n",
        "from keras.layers.core.activation import Activation\n",
        "from sklearn.metrics import classification_report, confusion_matrix\n",
        "from sklearn.metrics import classification_report, confusion_matrix"
      ]
    },
    {
      "cell_type": "code",
      "source": [
        "dataset = datasets.cifar10.load_data()"
      ],
      "metadata": {
        "colab": {
          "base_uri": "https://localhost:8080/"
        },
        "id": "VIeutlv6b1Aq",
        "outputId": "ecc086c6-5662-4072-dda4-5b8e851f1d2e"
      },
      "execution_count": 2,
      "outputs": [
        {
          "output_type": "stream",
          "name": "stdout",
          "text": [
            "Downloading data from https://www.cs.toronto.edu/~kriz/cifar-10-python.tar.gz\n",
            "170500096/170498071 [==============================] - 14s 0us/step\n",
            "170508288/170498071 [==============================] - 14s 0us/step\n"
          ]
        }
      ]
    },
    {
      "cell_type": "code",
      "source": [
        "(X_train, y_train), (X_test, y_test) = dataset"
      ],
      "metadata": {
        "id": "8eLlEvDyb1DL"
      },
      "execution_count": 3,
      "outputs": []
    },
    {
      "cell_type": "code",
      "source": [
        "print(X_train.shape)\n",
        "print(y_train.shape)\n",
        "print(X_test.shape)\n",
        "print(y_test.shape)"
      ],
      "metadata": {
        "colab": {
          "base_uri": "https://localhost:8080/"
        },
        "id": "zj6b5xOWczZl",
        "outputId": "f95d9a73-9499-4d76-8c38-0204e810e6fa"
      },
      "execution_count": 4,
      "outputs": [
        {
          "output_type": "stream",
          "name": "stdout",
          "text": [
            "(50000, 32, 32, 3)\n",
            "(50000, 1)\n",
            "(10000, 32, 32, 3)\n",
            "(10000, 1)\n"
          ]
        }
      ]
    },
    {
      "cell_type": "code",
      "source": [
        "\n",
        "print(y_train.shape)\n",
        "print(y_train)\n",
        "#CONVERT Y INTO 1 DIMENSIONAL ARRAY"
      ],
      "metadata": {
        "colab": {
          "base_uri": "https://localhost:8080/"
        },
        "id": "IAeJstnIoQYm",
        "outputId": "66a202b5-4afe-4d63-ee22-664baf8538d9"
      },
      "execution_count": 5,
      "outputs": [
        {
          "output_type": "stream",
          "name": "stdout",
          "text": [
            "(50000, 1)\n",
            "[[6]\n",
            " [9]\n",
            " [9]\n",
            " ...\n",
            " [9]\n",
            " [1]\n",
            " [1]]\n"
          ]
        }
      ]
    },
    {
      "cell_type": "code",
      "source": [
        "# Train = 50000 images\n",
        "# Test = 10000 images\n",
        "# Image SIze = 32 * 32 pixel\n",
        "# RGB pattern = 3"
      ],
      "metadata": {
        "id": "ewijG3T2czcI"
      },
      "execution_count": 6,
      "outputs": []
    },
    {
      "cell_type": "code",
      "source": [
        "plt.imshow(X_train[140])"
      ],
      "metadata": {
        "colab": {
          "base_uri": "https://localhost:8080/",
          "height": 283
        },
        "id": "r5jdi5S6b1Fp",
        "outputId": "43d74231-d611-4092-e899-afa662cebb90"
      },
      "execution_count": 7,
      "outputs": [
        {
          "output_type": "execute_result",
          "data": {
            "text/plain": [
              "<matplotlib.image.AxesImage at 0x7f92078f3e90>"
            ]
          },
          "metadata": {},
          "execution_count": 7
        },
        {
          "output_type": "display_data",
          "data": {
            "text/plain": [
              "<Figure size 432x288 with 1 Axes>"
            ],
            "image/png": "[encoded data removed]"
          },
          "metadata": {
            "needs_background": "light"
          }
        }
      ]
    },
    {
      "cell_type": "code",
      "source": [
        "# CIFAR 10 = https://www.cs.toronto.edu/~kriz/cifar.html\n",
        "# 10 CATEGORIES OF  IMAGE CATEGORIES LISTED"
      ],
      "metadata": {
        "id": "LedLFaisdr_0"
      },
      "execution_count": 8,
      "outputs": []
    },
    {
      "cell_type": "code",
      "source": [
        "classes = [\"airplane\",\"automobile\",\"bird\",\"cat\",\"deer\",\"dog\",\"frog\",\"horse\",\"ship\",\"truck\"]"
      ],
      "metadata": {
        "id": "QSgxa6zDhcSF"
      },
      "execution_count": 9,
      "outputs": []
    },
    {
      "cell_type": "code",
      "source": [
        "y_train = y_train.reshape(-1,)\n",
        "print(y_train)\n",
        "#CONVERT Y INTO 1 DIMENSIONAL ARRAY"
      ],
      "metadata": {
        "colab": {
          "base_uri": "https://localhost:8080/"
        },
        "id": "U0VibmqNhcUt",
        "outputId": "474ee33f-c9f1-429e-e2c5-0c0be19f0920"
      },
      "execution_count": 10,
      "outputs": [
        {
          "output_type": "stream",
          "name": "stdout",
          "text": [
            "[6 9 9 ... 9 1 1]\n"
          ]
        }
      ]
    },
    {
      "cell_type": "code",
      "source": [
        "y_test = y_test.reshape(-1,)\n",
        "print(y_test)\n",
        "#CONVERT Y INTO 1 DIMENSIONAL ARRAY"
      ],
      "metadata": {
        "colab": {
          "base_uri": "https://localhost:8080/"
        },
        "id": "Dv9y7UHPhcXY",
        "outputId": "376ab5e2-3db6-4947-aead-75a27d4646db"
      },
      "execution_count": 11,
      "outputs": [
        {
          "output_type": "stream",
          "name": "stdout",
          "text": [
            "[3 8 8 ... 5 1 7]\n"
          ]
        }
      ]
    },
    {
      "cell_type": "code",
      "source": [
        "def plot_sample(X, y , index):\n",
        "  plt.figure(figsize=(5,2))\n",
        "  plt.imshow(X[index])\n",
        "  plt.xlabel(classes[y[index]])"
      ],
      "metadata": {
        "id": "QV9zZFS0hcaD"
      },
      "execution_count": 12,
      "outputs": []
    },
    {
      "cell_type": "code",
      "source": [
        "plot_sample(X_train,y_train, 5)"
      ],
      "metadata": {
        "colab": {
          "base_uri": "https://localhost:8080/",
          "height": 173
        },
        "id": "36Kw6az4hccl",
        "outputId": "c1f94633-7ff5-48c3-8d1b-eee5f9a0498a"
      },
      "execution_count": 13,
      "outputs": [
        {
          "output_type": "display_data",
          "data": {
            "text/plain": [
              "<Figure size 360x144 with 1 Axes>"
            ],
            "image/png": "[encoded data removed]"
          },
          "metadata": {
            "needs_background": "light"
          }
        }
      ]
    },
    {
      "cell_type": "code",
      "source": [
        "# #before data ormalization\n",
        "# print(X_train)\n",
        "# print(X_test)"
      ],
      "metadata": {
        "id": "XEBY04UDhcj5"
      },
      "execution_count": 14,
      "outputs": []
    },
    {
      "cell_type": "code",
      "source": [
        "# after normalization\n",
        "X_train = X_train / 255\n",
        "X_test = X_test / 255\n",
        "# print(X_train)\n",
        "# print(X_test)"
      ],
      "metadata": {
        "id": "OVbGxggOhcmN"
      },
      "execution_count": 15,
      "outputs": []
    },
    {
      "cell_type": "code",
      "source": [
        "# Trying with ANN for Model evaluation before jumping into Other Better DL techniques"
      ],
      "metadata": {
        "id": "AME9-faWhco7"
      },
      "execution_count": 16,
      "outputs": []
    },
    {
      "cell_type": "markdown",
      "source": [
        ""
      ],
      "metadata": {
        "id": "eTG5Ft8nr36m"
      }
    },
    {
      "cell_type": "code",
      "source": [
        "modelANN = models.Sequential([\n",
        "    layers.Flatten(input_shape=(X_train.shape[1],X_train.shape[2],X_train.shape[3])),\n",
        "    layers.Dense(2000, activation='relu'),\n",
        "    layers.Dense(3000, activation='relu'),\n",
        "    layers.Dense(10, activation='sigmoid')\n",
        "])"
      ],
      "metadata": {
        "id": "1fk1osH_dsCZ"
      },
      "execution_count": 17,
      "outputs": []
    },
    {
      "cell_type": "code",
      "source": [
        "# loss = sparse_categorical_crossentropy  since we didnot  OneHotEncode the 10 categories, we have them as 1-10 \n",
        "modelANN.compile(optimizer='SGD', loss='sparse_categorical_crossentropy', metrics=['accuracy'])\n"
      ],
      "metadata": {
        "id": "gxMfqiK7nAO_"
      },
      "execution_count": 18,
      "outputs": []
    },
    {
      "cell_type": "code",
      "source": [
        "modelANN.fit(X_train, y_train, epochs=5)"
      ],
      "metadata": {
        "colab": {
          "base_uri": "https://localhost:8080/"
        },
        "id": "WV9LSu95nARW",
        "outputId": "13991b4c-158d-4d14-cbe0-4e92e5d2c766"
      },
      "execution_count": 22,
      "outputs": [
        {
          "output_type": "stream",
          "name": "stdout",
          "text": [
            "Epoch 1/5\n",
            "1563/1563 [==============================] - 5s 3ms/step - loss: 1.0933 - accuracy: 0.6183\n",
            "Epoch 2/5\n",
            "1563/1563 [==============================] - 5s 3ms/step - loss: 1.0668 - accuracy: 0.6290\n",
            "Epoch 3/5\n",
            "1563/1563 [==============================] - 5s 3ms/step - loss: 1.0390 - accuracy: 0.6400\n",
            "Epoch 4/5\n",
            "1563/1563 [==============================] - 5s 3ms/step - loss: 1.0187 - accuracy: 0.6454\n",
            "Epoch 5/5\n",
            "1563/1563 [==============================] - 5s 4ms/step - loss: 0.9908 - accuracy: 0.6556\n"
          ]
        },
        {
          "output_type": "execute_result",
          "data": {
            "text/plain": [
              "<keras.callbacks.History at 0x7f91f010d110>"
            ]
          },
          "metadata": {},
          "execution_count": 22
        }
      ]
    },
    {
      "cell_type": "code",
      "source": [
        "modelANN.evaluate(X_test, y_test)\n",
        "#MODEL  ACCURACY ON TEST DATA IS 45, VERY LOW WITH USING ANN"
      ],
      "metadata": {
        "colab": {
          "base_uri": "https://localhost:8080/"
        },
        "id": "UdhmNbs_nAT_",
        "outputId": "fc3cdbba-b611-4b57-decf-cd3eee39ed79"
      },
      "execution_count": 23,
      "outputs": [
        {
          "output_type": "stream",
          "name": "stdout",
          "text": [
            "313/313 [==============================] - 1s 3ms/step - loss: 1.3999 - accuracy: 0.5135\n"
          ]
        },
        {
          "output_type": "execute_result",
          "data": {
            "text/plain": [
              "[1.3999179601669312, 0.5134999752044678]"
            ]
          },
          "metadata": {},
          "execution_count": 23
        }
      ]
    },
    {
      "cell_type": "code",
      "source": [
        "y_pred = modelANN.predict(X_test)"
      ],
      "metadata": {
        "id": "oLqFTXBspOH8"
      },
      "execution_count": 25,
      "outputs": []
    },
    {
      "cell_type": "code",
      "source": [
        "y_pred_Multiclass = [np.argmax(data) for data in y_pred]"
      ],
      "metadata": {
        "id": "ZPOItXUVpqgd"
      },
      "execution_count": 26,
      "outputs": []
    },
    {
      "cell_type": "code",
      "source": [
        "# CONFUSION MATRIX FOR Y TEST AND Y PRED TEST DATA\n",
        "confusion_matrix(y_test,y_pred_Multiclass)\n",
        "#We can find that not all the data are on the diagonals, hence the accuracy is only 51% in case of ANN. "
      ],
      "metadata": {
        "colab": {
          "base_uri": "https://localhost:8080/"
        },
        "id": "Ow4msrgpo_Lx",
        "outputId": "7c69f2f8-0d86-484c-a3d8-3b3e1fc2630e"
      },
      "execution_count": 34,
      "outputs": [
        {
          "output_type": "execute_result",
          "data": {
            "text/plain": [
              "array([[447,  32,  22,  15,  15,   5,  84, 122, 140, 118],\n",
              "       [  7, 540,   2,  15,   2,  12,  43,  45,  49, 285],\n",
              "       [ 45,  10, 219,  88,  75,  59, 257, 211,  11,  25],\n",
              "       [ 13,   8,  23, 335,  19, 108, 253, 186,  11,  44],\n",
              "       [ 22,   9,  35,  42, 293,  26, 291, 242,  26,  14],\n",
              "       [  4,   1,  21, 221,  30, 307, 177, 199,  14,  26],\n",
              "       [  2,   7,  10,  50,  21,  15, 832,  44,   5,  14],\n",
              "       [  7,   3,   4,  33,  16,  33,  47, 815,   8,  34],\n",
              "       [ 37,  42,  11,  36,   7,   6,  45,  55, 649, 112],\n",
              "       [ 13,  73,   3,  18,   2,  10,  40, 113,  30, 698]])"
            ]
          },
          "metadata": {},
          "execution_count": 34
        }
      ]
    },
    {
      "cell_type": "code",
      "source": [
        "#Classification Report for YTEST\n",
        "print(classification_report(y_test, y_pred_Multiclass))"
      ],
      "metadata": {
        "colab": {
          "base_uri": "https://localhost:8080/"
        },
        "id": "4oCUZ__dpOKj",
        "outputId": "0b650121-4661-482f-c09f-ffa1ec51b07b"
      },
      "execution_count": 29,
      "outputs": [
        {
          "output_type": "stream",
          "name": "stdout",
          "text": [
            "              precision    recall  f1-score   support\n",
            "\n",
            "           0       0.75      0.45      0.56      1000\n",
            "           1       0.74      0.54      0.63      1000\n",
            "           2       0.63      0.22      0.32      1000\n",
            "           3       0.39      0.34      0.36      1000\n",
            "           4       0.61      0.29      0.40      1000\n",
            "           5       0.53      0.31      0.39      1000\n",
            "           6       0.40      0.83      0.54      1000\n",
            "           7       0.40      0.81      0.54      1000\n",
            "           8       0.69      0.65      0.67      1000\n",
            "           9       0.51      0.70      0.59      1000\n",
            "\n",
            "    accuracy                           0.51     10000\n",
            "   macro avg       0.57      0.51      0.50     10000\n",
            "weighted avg       0.57      0.51      0.50     10000\n",
            "\n"
          ]
        }
      ]
    },
    {
      "cell_type": "code",
      "source": [
        "y_predTrain = modelANN.predict(X_train)"
      ],
      "metadata": {
        "id": "huMB2Bwkpl6M"
      },
      "execution_count": 30,
      "outputs": []
    },
    {
      "cell_type": "code",
      "source": [
        "y_pred_MulticlassTrain = [np.argmax(data) for data in y_predTrain]"
      ],
      "metadata": {
        "id": "qdYnsXQTpl8r"
      },
      "execution_count": 31,
      "outputs": []
    },
    {
      "cell_type": "code",
      "source": [
        "# CONFUSION MATRIX FOR Y TRAIN AND Y PRED TRAIN DATA\n",
        "confusion_matrix(y_train,y_pred_MulticlassTrain)\n",
        "#We can find that not all the data are on the diagonals, hence the accuracy is only 66% in case of ANN. "
      ],
      "metadata": {
        "colab": {
          "base_uri": "https://localhost:8080/"
        },
        "id": "raeRVZvnpdx3",
        "outputId": "2e232146-ae2c-4a5d-b72e-c6cf5c9d1b55"
      },
      "execution_count": 35,
      "outputs": [
        {
          "output_type": "execute_result",
          "data": {
            "text/plain": [
              "array([[2530,  151,   85,  104,   67,   28,  359,  654,  546,  476],\n",
              "       [  24, 3429,    3,   47,   11,   10,  122,  150,  145, 1059],\n",
              "       [ 188,   39, 1379,  327,  361,  224, 1332,  964,   63,  123],\n",
              "       [  35,   25,   70, 2469,   60,  301, 1140,  724,   58,  118],\n",
              "       [  66,   20,  129,  209, 1931,   81, 1231, 1169,   79,   85],\n",
              "       [  14,   13,   85,  811,   76, 2225,  788,  884,   27,   77],\n",
              "       [   5,   21,   23,  112,   54,   30, 4557,  156,   10,   32],\n",
              "       [  12,   11,   21,   86,   62,   60,  165, 4504,   19,   60],\n",
              "       [ 156,  113,   27,   99,   38,   19,  202,  160, 3750,  436],\n",
              "       [  23,  131,    7,   48,    8,   27,  148,  338,   79, 4191]])"
            ]
          },
          "metadata": {},
          "execution_count": 35
        }
      ]
    },
    {
      "cell_type": "code",
      "source": [
        "#Classification Report for YTRAIN\n",
        "print(classification_report(y_train, y_pred_MulticlassTrain))"
      ],
      "metadata": {
        "colab": {
          "base_uri": "https://localhost:8080/"
        },
        "id": "Hyzc8dBVpd0q",
        "outputId": "1164d2ec-04ee-4773-aa38-179e1609cb14"
      },
      "execution_count": 36,
      "outputs": [
        {
          "output_type": "stream",
          "name": "stdout",
          "text": [
            "              precision    recall  f1-score   support\n",
            "\n",
            "           0       0.83      0.51      0.63      5000\n",
            "           1       0.87      0.69      0.77      5000\n",
            "           2       0.75      0.28      0.40      5000\n",
            "           3       0.57      0.49      0.53      5000\n",
            "           4       0.72      0.39      0.50      5000\n",
            "           5       0.74      0.45      0.56      5000\n",
            "           6       0.45      0.91      0.61      5000\n",
            "           7       0.46      0.90      0.61      5000\n",
            "           8       0.79      0.75      0.77      5000\n",
            "           9       0.63      0.84      0.72      5000\n",
            "\n",
            "    accuracy                           0.62     50000\n",
            "   macro avg       0.68      0.62      0.61     50000\n",
            "weighted avg       0.68      0.62      0.61     50000\n",
            "\n"
          ]
        }
      ]
    },
    {
      "cell_type": "code",
      "source": [
        "modelANN.summary()"
      ],
      "metadata": {
        "colab": {
          "base_uri": "https://localhost:8080/"
        },
        "id": "w5TOMzMilRDQ",
        "outputId": "4b9b63e6-f2b5-4593-cd0e-61d099ff9444"
      },
      "execution_count": 37,
      "outputs": [
        {
          "output_type": "stream",
          "name": "stdout",
          "text": [
            "Model: \"sequential\"\n",
            "_________________________________________________________________\n",
            " Layer (type)                Output Shape              Param #   \n",
            "=================================================================\n",
            " flatten (Flatten)           (None, 3072)              0         \n",
            "                                                                 \n",
            " dense (Dense)               (None, 2000)              6146000   \n",
            "                                                                 \n",
            " dense_1 (Dense)             (None, 3000)              6003000   \n",
            "                                                                 \n",
            " dense_2 (Dense)             (None, 10)                30010     \n",
            "                                                                 \n",
            "=================================================================\n",
            "Total params: 12,179,010\n",
            "Trainable params: 12,179,010\n",
            "Non-trainable params: 0\n",
            "_________________________________________________________________\n"
          ]
        }
      ]
    }
  ]
}